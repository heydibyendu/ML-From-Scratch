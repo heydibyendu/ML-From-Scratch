{
 "cells": [
  {
   "cell_type": "code",
   "execution_count": 1,
   "id": "8effd456-1c69-47a4-be88-5fd2fbcccf10",
   "metadata": {
    "tags": []
   },
   "outputs": [],
   "source": [
    "import numpy as np\n",
    "from collections import Counter"
   ]
  },
  {
   "cell_type": "markdown",
   "id": "f5af363a-7bcc-45b4-9583-83f54412af12",
   "metadata": {},
   "source": [
    "# New"
   ]
  },
  {
   "cell_type": "code",
   "execution_count": 2,
   "id": "9d45750a-3678-4246-a531-8e5e180404e8",
   "metadata": {
    "tags": []
   },
   "outputs": [
    {
     "data": {
      "text/plain": [
       "((6, 2), (6,))"
      ]
     },
     "execution_count": 2,
     "metadata": {},
     "output_type": "execute_result"
    }
   ],
   "source": [
    "# Sample dataset: [Weight, Color], Class\n",
    "X_train = np.array([[150, 1], [130, 1], [160, 2], [140, 2], [170, 1], [120, 1]])\n",
    "y_train = np.array(['Apple', 'Apple', 'Pear', 'Pear', 'Apple', 'Apple'])\n",
    "X_train.shape, y_train.shape"
   ]
  },
  {
   "cell_type": "code",
   "execution_count": 4,
   "id": "4d898ff1-cba6-4d62-a4f5-34b92cbf9847",
   "metadata": {
    "tags": []
   },
   "outputs": [
    {
     "data": {
      "text/plain": [
       "2.23606797749979"
      ]
     },
     "execution_count": 4,
     "metadata": {},
     "output_type": "execute_result"
    }
   ],
   "source": [
    "def e_distance(point1, point2):\n",
    "    return np.sqrt(np.sum((point1 - point2)**2))\n",
    "\n",
    "e_distance(np.array([150, 1]), np.array([152, 2]))"
   ]
  },
  {
   "cell_type": "code",
   "execution_count": null,
   "id": "cc59a1d9-424c-420f-a29f-25ef1447839b",
   "metadata": {
    "tags": []
   },
   "outputs": [],
   "source": [
    "def knn(X_train, y_train, query_point, k=3):\n",
    "    distances = []\n",
    "    \n",
    "    for i in range(len(X_train)):\n",
    "        distance = e_distance(X_train[i], query_point)\n",
    "        distances.append((distance, y_train[i]))\n",
    "        \n",
    "    distances.sort(key=lambda x: x[0])\n",
    "    \n",
    "    k_nearest_classes = [distances[i][1] for i in range(k)]\n",
    "    \n",
    "    most_common_class = Counter(k_nearest_classes).most_common(1)[0][0]\n",
    "    \n",
    "    return most_common_class"
   ]
  },
  {
   "cell_type": "code",
   "execution_count": null,
   "id": "b1286afd-0500-44cd-91ff-12258151c297",
   "metadata": {
    "tags": []
   },
   "outputs": [],
   "source": [
    "# Example usage\n",
    "query_point = np.array([145, 1])  # Weight=145g, Color=1 (red)\n",
    "k = 3\n",
    "\n",
    "# Predict the class for the new point\n",
    "prediction = knn(X_train, y_train, query_point, k)\n",
    "print(f\"The predicted class for the query point is: {prediction}\")"
   ]
  },
  {
   "cell_type": "markdown",
   "id": "593754d2-7c3d-4469-a095-3cde3a6ff5b7",
   "metadata": {},
   "source": [
    "# Final"
   ]
  },
  {
   "cell_type": "code",
   "execution_count": null,
   "id": "f13afe70-dcf8-4bbb-822e-0d4a54c4201f",
   "metadata": {
    "tags": []
   },
   "outputs": [],
   "source": [
    "# Sample dataset: [Weight, Color], Class\n",
    "X_train = np.array([[150, 1], [130, 1], [160, 2], [140, 2], [170, 1], [120, 1]])\n",
    "y_train = np.array(['Apple', 'Apple', 'Pear', 'Pear', 'Apple', 'Apple'])\n",
    "\n",
    "# Euclidean distance function\n",
    "def euclidean_distance(point1, point2):\n",
    "    return np.sqrt(np.sum((point1 - point2) ** 2))\n",
    "\n",
    "# KNN algorithm\n",
    "def knn(X_train, y_train, query_point, k=3):\n",
    "    distances = []\n",
    "\n",
    "    # Step 1: Calculate the distance between the query point and all training data points\n",
    "    for i in range(len(X_train)):\n",
    "        distance = euclidean_distance(X_train[i], query_point)\n",
    "        distances.append((distance, y_train[i]))\n",
    "\n",
    "    # Step 2: Sort the distances\n",
    "    distances.sort(key=lambda x: x[0])\n",
    "\n",
    "    # Step 3: Get the classes of the k nearest neighbors\n",
    "    k_nearest_classes = [distances[i][1] for i in range(k)]\n",
    "\n",
    "    # Step 4: Return the most common class (majority vote)\n",
    "    most_common_class = Counter(k_nearest_classes).most_common(1)[0]\n",
    "    return most_common_class\n",
    "\n",
    "# Example usage\n",
    "query_point = np.array([145, 1])  # Weight=145g, Color=1 (red)\n",
    "k = 3\n",
    "\n",
    "# Predict the class for the new point\n",
    "prediction = knn(X_train, y_train, query_point, k)\n",
    "print(f\"The predicted class for the query point is: {prediction}\")"
   ]
  },
  {
   "cell_type": "code",
   "execution_count": null,
   "id": "0b7c1339-21c3-41eb-886e-b8919dadf932",
   "metadata": {
    "tags": []
   },
   "outputs": [],
   "source": [
    "d = [(5.0, 'Apple'), (5.0990195135927845, 'Pear'), (15.0, 'Apple'), (15.033296378372908, 'Pear'), (25.0, 'Apple'), (25.0, 'Apple')]\n",
    "\n",
    "k_nearest_classes = [d[i][1] for i in range(k)]\n",
    "k_nearest_classes"
   ]
  },
  {
   "cell_type": "code",
   "execution_count": null,
   "id": "597c21fa-9277-4b7a-947c-7cd25b16d793",
   "metadata": {
    "tags": []
   },
   "outputs": [],
   "source": [
    "Counter(k_nearest_classes).most_common(1)[0][0]"
   ]
  },
  {
   "cell_type": "code",
   "execution_count": null,
   "id": "e0fabf23-5b32-4a57-bcdb-4fe9956989e7",
   "metadata": {},
   "outputs": [],
   "source": []
  }
 ],
 "metadata": {
  "kernelspec": {
   "display_name": "Python 3 (ipykernel)",
   "language": "python",
   "name": "python3"
  },
  "language_info": {
   "codemirror_mode": {
    "name": "ipython",
    "version": 3
   },
   "file_extension": ".py",
   "mimetype": "text/x-python",
   "name": "python",
   "nbconvert_exporter": "python",
   "pygments_lexer": "ipython3",
   "version": "3.11.10"
  }
 },
 "nbformat": 4,
 "nbformat_minor": 5
}
